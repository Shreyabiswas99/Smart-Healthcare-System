{
 "cells": [
  {
   "cell_type": "code",
   "execution_count": null,
   "id": "e7354d91",
   "metadata": {},
   "outputs": [
    {
     "name": "stderr",
     "output_type": "stream",
     "text": [
      "C:\\Users\\amirt\\anaconda3\\lib\\site-packages\\xgboost\\compat.py:31: FutureWarning: pandas.Int64Index is deprecated and will be removed from pandas in a future version. Use pandas.Index with the appropriate dtype instead.\n",
      "  from pandas import MultiIndex, Int64Index\n"
     ]
    },
    {
     "name": "stdout",
     "output_type": "stream",
     "text": [
      " * Serving Flask app 'webapp.__init__' (lazy loading)\n",
      " * Environment: production\n",
      "\u001b[31m   WARNING: This is a development server. Do not use it in a production deployment.\u001b[0m\n",
      "\u001b[2m   Use a production WSGI server instead.\u001b[0m\n",
      " * Debug mode: off\n"
     ]
    },
    {
     "name": "stderr",
     "output_type": "stream",
     "text": [
      " * Running on http://127.0.0.1:5000/ (Press CTRL+C to quit)\n",
      "127.0.0.1 - - [25/Apr/2023 12:27:46] \"GET / HTTP/1.1\" 200 -\n",
      "127.0.0.1 - - [25/Apr/2023 12:27:47] \"GET /static/styling/basics.css HTTP/1.1\" 304 -\n",
      "127.0.0.1 - - [25/Apr/2023 12:27:47] \"GET /static/styling/popping.css HTTP/1.1\" 304 -\n",
      "127.0.0.1 - - [25/Apr/2023 12:27:47] \"GET /static/javascripts/basic.js HTTP/1.1\" 304 -\n",
      "127.0.0.1 - - [25/Apr/2023 12:27:47] \"GET /static/styling/movements.css HTTP/1.1\" 304 -\n",
      "127.0.0.1 - - [25/Apr/2023 12:27:47] \"GET /static/javascripts/query.js HTTP/1.1\" 304 -\n",
      "127.0.0.1 - - [25/Apr/2023 12:27:47] \"GET /static/javascripts/loadimagesjs HTTP/1.1\" 404 -\n",
      "127.0.0.1 - - [25/Apr/2023 12:27:47] \"GET /static/styling/texts.css HTTP/1.1\" 304 -\n",
      "127.0.0.1 - - [25/Apr/2023 12:27:47] \"GET /static/javascripts/move.js HTTP/1.1\" 304 -\n",
      "127.0.0.1 - - [25/Apr/2023 12:27:47] \"GET /static/javascripts/scroll.js HTTP/1.1\" 304 -\n",
      "127.0.0.1 - - [25/Apr/2023 12:27:47] \"GET /static/javascripts/bmove.js HTTP/1.1\" 304 -\n",
      "127.0.0.1 - - [25/Apr/2023 12:27:47] \"GET /static/javascripts/popping.js HTTP/1.1\" 304 -\n",
      "127.0.0.1 - - [25/Apr/2023 12:27:47] \"GET /static/styling/style.css HTTP/1.1\" 304 -\n",
      "127.0.0.1 - - [25/Apr/2023 12:27:47] \"GET /static/javascripts/sliding.js HTTP/1.1\" 304 -\n",
      "127.0.0.1 - - [25/Apr/2023 12:27:47] \"GET /static/photos/topic.png HTTP/1.1\" 304 -\n",
      "127.0.0.1 - - [25/Apr/2023 12:27:47] \"GET /static/photos/mainp.jpg HTTP/1.1\" 304 -\n",
      "127.0.0.1 - - [25/Apr/2023 12:27:47] \"GET /static/photos/dliv.jpg HTTP/1.1\" 304 -\n",
      "127.0.0.1 - - [25/Apr/2023 12:27:47] \"GET /static/photos/dpneu.jpg HTTP/1.1\" 304 -\n",
      "127.0.0.1 - - [25/Apr/2023 12:27:47] \"GET /static/photos/dkid.jpg HTTP/1.1\" 304 -\n",
      "127.0.0.1 - - [25/Apr/2023 12:27:47] \"GET /static/photos/ddia.jpg HTTP/1.1\" 304 -\n",
      "127.0.0.1 - - [25/Apr/2023 12:27:47] \"GET /static/photos/dstro.jpg HTTP/1.1\" 304 -\n",
      "127.0.0.1 - - [25/Apr/2023 12:27:47] \"GET /static/photos/dhea.jpg HTTP/1.1\" 304 -\n",
      "127.0.0.1 - - [25/Apr/2023 12:27:50] \"GET /dneuform HTTP/1.1\" 200 -\n",
      "127.0.0.1 - - [25/Apr/2023 12:27:50] \"GET /static/styling/basics.css HTTP/1.1\" 304 -\n",
      "127.0.0.1 - - [25/Apr/2023 12:27:50] \"GET /static/styling/movements.css HTTP/1.1\" 304 -\n",
      "127.0.0.1 - - [25/Apr/2023 12:27:50] \"GET /static/styling/texts.css HTTP/1.1\" 304 -\n",
      "127.0.0.1 - - [25/Apr/2023 12:27:50] \"GET /static/styling/popping.css HTTP/1.1\" 304 -\n",
      "127.0.0.1 - - [25/Apr/2023 12:27:50] \"GET /static/styling/style.css HTTP/1.1\" 304 -\n",
      "127.0.0.1 - - [25/Apr/2023 12:27:50] \"GET /static/javascripts/basic.js HTTP/1.1\" 304 -\n",
      "127.0.0.1 - - [25/Apr/2023 12:27:50] \"GET /static/javascripts/loadimagesjs HTTP/1.1\" 404 -\n",
      "127.0.0.1 - - [25/Apr/2023 12:27:50] \"GET /static/javascripts/query.js HTTP/1.1\" 304 -\n",
      "127.0.0.1 - - [25/Apr/2023 12:27:50] \"GET /static/javascripts/move.js HTTP/1.1\" 304 -\n",
      "127.0.0.1 - - [25/Apr/2023 12:27:50] \"GET /static/javascripts/scroll.js HTTP/1.1\" 304 -\n",
      "127.0.0.1 - - [25/Apr/2023 12:27:50] \"GET /static/javascripts/bmove.js HTTP/1.1\" 304 -\n",
      "127.0.0.1 - - [25/Apr/2023 12:27:50] \"GET /static/javascripts/popping.js HTTP/1.1\" 304 -\n",
      "127.0.0.1 - - [25/Apr/2023 12:27:50] \"GET /static/photos/topic.png HTTP/1.1\" 304 -\n",
      "127.0.0.1 - - [25/Apr/2023 12:27:50] \"GET /uploads/ HTTP/1.1\" 404 -\n",
      "127.0.0.1 - - [25/Apr/2023 12:27:50] \"GET /static/javascripts/sliding.js HTTP/1.1\" 304 -\n",
      "127.0.0.1 - - [25/Apr/2023 12:27:50] \"GET /static/photos/upload.png HTTP/1.1\" 304 -\n",
      "127.0.0.1 - - [25/Apr/2023 12:27:55] \"GET /dneuform HTTP/1.1\" 200 -\n",
      "127.0.0.1 - - [25/Apr/2023 12:27:55] \"GET /static/styling/basics.css HTTP/1.1\" 304 -\n",
      "127.0.0.1 - - [25/Apr/2023 12:27:55] \"GET /static/styling/movements.css HTTP/1.1\" 304 -\n",
      "127.0.0.1 - - [25/Apr/2023 12:27:55] \"GET /static/styling/texts.css HTTP/1.1\" 304 -\n",
      "127.0.0.1 - - [25/Apr/2023 12:27:55] \"GET /static/styling/popping.css HTTP/1.1\" 304 -\n",
      "127.0.0.1 - - [25/Apr/2023 12:27:55] \"GET /static/styling/style.css HTTP/1.1\" 304 -\n",
      "127.0.0.1 - - [25/Apr/2023 12:27:55] \"GET /static/javascripts/basic.js HTTP/1.1\" 304 -\n",
      "127.0.0.1 - - [25/Apr/2023 12:27:56] \"GET /static/javascripts/query.js HTTP/1.1\" 304 -\n",
      "127.0.0.1 - - [25/Apr/2023 12:27:56] \"GET /static/javascripts/loadimagesjs HTTP/1.1\" 404 -\n",
      "127.0.0.1 - - [25/Apr/2023 12:27:56] \"GET /static/javascripts/move.js HTTP/1.1\" 304 -\n",
      "127.0.0.1 - - [25/Apr/2023 12:27:56] \"GET /static/javascripts/scroll.js HTTP/1.1\" 304 -\n",
      "127.0.0.1 - - [25/Apr/2023 12:27:56] \"GET /static/javascripts/bmove.js HTTP/1.1\" 304 -\n",
      "127.0.0.1 - - [25/Apr/2023 12:27:56] \"GET /static/photos/topic.png HTTP/1.1\" 304 -\n",
      "127.0.0.1 - - [25/Apr/2023 12:27:56] \"GET /uploads/ HTTP/1.1\" 404 -\n",
      "127.0.0.1 - - [25/Apr/2023 12:27:56] \"GET /static/javascripts/popping.js HTTP/1.1\" 304 -\n",
      "127.0.0.1 - - [25/Apr/2023 12:27:56] \"GET /static/javascripts/sliding.js HTTP/1.1\" 304 -\n",
      "127.0.0.1 - - [25/Apr/2023 12:27:56] \"GET /static/photos/upload.png HTTP/1.1\" 304 -\n"
     ]
    },
    {
     "name": "stdout",
     "output_type": "stream",
     "text": [
      "entered\n"
     ]
    },
    {
     "name": "stderr",
     "output_type": "stream",
     "text": [
      "127.0.0.1 - - [25/Apr/2023 12:28:01] \"POST /inputfile HTTP/1.1\" 200 -\n",
      "127.0.0.1 - - [25/Apr/2023 12:28:01] \"GET /static/styling/basics.css HTTP/1.1\" 304 -\n",
      "127.0.0.1 - - [25/Apr/2023 12:28:01] \"GET /static/styling/movements.css HTTP/1.1\" 304 -\n",
      "127.0.0.1 - - [25/Apr/2023 12:28:01] \"GET /static/styling/texts.css HTTP/1.1\" 304 -\n",
      "127.0.0.1 - - [25/Apr/2023 12:28:01] \"GET /static/styling/popping.css HTTP/1.1\" 304 -\n",
      "127.0.0.1 - - [25/Apr/2023 12:28:01] \"GET /static/styling/style.css HTTP/1.1\" 304 -\n",
      "127.0.0.1 - - [25/Apr/2023 12:28:01] \"GET /static/javascripts/basic.js HTTP/1.1\" 304 -\n",
      "127.0.0.1 - - [25/Apr/2023 12:28:01] \"GET /static/javascripts/query.js HTTP/1.1\" 304 -\n",
      "127.0.0.1 - - [25/Apr/2023 12:28:01] \"GET /static/javascripts/loadimagesjs HTTP/1.1\" 404 -\n",
      "127.0.0.1 - - [25/Apr/2023 12:28:01] \"GET /static/javascripts/move.js HTTP/1.1\" 304 -\n",
      "127.0.0.1 - - [25/Apr/2023 12:28:01] \"GET /static/javascripts/scroll.js HTTP/1.1\" 304 -\n",
      "127.0.0.1 - - [25/Apr/2023 12:28:01] \"GET /static/javascripts/bmove.js HTTP/1.1\" 304 -\n",
      "127.0.0.1 - - [25/Apr/2023 12:28:01] \"GET /static/javascripts/popping.js HTTP/1.1\" 304 -\n",
      "127.0.0.1 - - [25/Apr/2023 12:28:01] \"GET /static/photos/topic.png HTTP/1.1\" 304 -\n",
      "127.0.0.1 - - [25/Apr/2023 12:28:01] \"GET /uploads/71822.jpg HTTP/1.1\" 200 -\n",
      "127.0.0.1 - - [25/Apr/2023 12:28:01] \"GET /static/javascripts/sliding.js HTTP/1.1\" 304 -\n"
     ]
    }
   ],
   "source": [
    "from webapp.__init__ import initialize\n",
    "\n",
    "app = initialize()\n",
    "\n",
    "\n",
    "\n",
    "if __name__ == '__main__':\n",
    "\tapp.run()\n"
   ]
  },
  {
   "cell_type": "code",
   "execution_count": null,
   "id": "e018b653",
   "metadata": {},
   "outputs": [],
   "source": []
  }
 ],
 "metadata": {
  "kernelspec": {
   "display_name": "Python 3 (ipykernel)",
   "language": "python",
   "name": "python3"
  },
  "language_info": {
   "codemirror_mode": {
    "name": "ipython",
    "version": 3
   },
   "file_extension": ".py",
   "mimetype": "text/x-python",
   "name": "python",
   "nbconvert_exporter": "python",
   "pygments_lexer": "ipython3",
   "version": "3.9.15"
  }
 },
 "nbformat": 4,
 "nbformat_minor": 5
}
